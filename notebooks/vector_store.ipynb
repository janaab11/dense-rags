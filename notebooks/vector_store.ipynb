{
 "cells": [
  {
   "cell_type": "markdown",
   "id": "a73f88f8-68f4-4668-bebd-ca91d559fe51",
   "metadata": {},
   "source": [
    "# Vector Store"
   ]
  },
  {
   "cell_type": "markdown",
   "id": "aa58c8e0-f2fd-4a72-a19c-d60703bc5506",
   "metadata": {},
   "source": [
    "We start by defining a few constants and imports"
   ]
  },
  {
   "cell_type": "code",
   "execution_count": 1,
   "id": "7226727b-61d3-4406-a196-3b1bee80a2a1",
   "metadata": {},
   "outputs": [],
   "source": [
    "DATASET_DIR = \"../datasets/books/\""
   ]
  },
  {
   "cell_type": "code",
   "execution_count": 2,
   "id": "3668d9f0-3631-4d38-90fe-098ba2333935",
   "metadata": {},
   "outputs": [],
   "source": [
    "import os\n",
    "\n",
    "DATASET_PATH = os.path.join(DATASET_DIR, \"data.csv\")\n",
    "DB_PATH = os.path.join(DATASET_DIR, \"vector_db\")"
   ]
  },
  {
   "cell_type": "code",
   "execution_count": 3,
   "id": "f690370c-7691-430a-8a8e-48b1d02f0429",
   "metadata": {},
   "outputs": [],
   "source": [
    "from langchain_openai import OpenAIEmbeddings\n",
    "from langchain_chroma import Chroma"
   ]
  },
  {
   "cell_type": "code",
   "execution_count": 4,
   "id": "467bca83-9704-4c28-99f1-6d7a2045961a",
   "metadata": {},
   "outputs": [
    {
     "name": "stdin",
     "output_type": "stream",
     "text": [
      " ········\n"
     ]
    }
   ],
   "source": [
    "import getpass\n",
    "import os\n",
    "\n",
    "os.environ[\"OPENAI_API_KEY\"] = os.environ.get(\"OPENAI_API_KEY\", getpass.getpass())"
   ]
  },
  {
   "cell_type": "markdown",
   "id": "fada6331-1512-4180-89ed-2df4d7f5f2cd",
   "metadata": {},
   "source": [
    "Documents are processed and encoded into dense embeddings"
   ]
  },
  {
   "cell_type": "code",
   "execution_count": 5,
   "id": "9b6d2392-7906-4b6f-b33f-e6cad36ea31c",
   "metadata": {},
   "outputs": [],
   "source": [
    "embeddings = OpenAIEmbeddings(model=\"text-embedding-3-small\")"
   ]
  },
  {
   "cell_type": "code",
   "execution_count": 6,
   "id": "e1897c15-efc0-478d-8b14-8a7d23200fde",
   "metadata": {},
   "outputs": [
    {
     "data": {
      "text/plain": [
       "Document(metadata={'source': '../datasets/books/data.csv', 'row': 0, 'start_index': 0}, page_content='Book: The Beach\\nDescription: After discovering a seemingly Edenic paradise on an island in a Thai national park, Richard soon finds that since civilized behavior tends to dissolve without external restraints, the utopia is hard to maintain. (Nancy Pearl)')"
      ]
     },
     "execution_count": 6,
     "metadata": {},
     "output_type": "execute_result"
    }
   ],
   "source": [
    "from langchain_community.document_loaders import CSVLoader\n",
    "from langchain.text_splitter import RecursiveCharacterTextSplitter\n",
    "\n",
    "#data loader\n",
    "loader = CSVLoader(file_path=DATASET_PATH, encoding='utf-8')\n",
    "docs = loader.load()\n",
    "\n",
    "#data transformers\n",
    "text_splitter = RecursiveCharacterTextSplitter(\n",
    "    chunk_size=2000,\n",
    "    chunk_overlap=0,\n",
    "    add_start_index=True,\n",
    "    separators=[\"\\n\\n\", \"\\n\", \".\", \" \", \"\"],\n",
    ")\n",
    "\n",
    "docs_processed = []\n",
    "for doc in docs:\n",
    "    docs_processed += text_splitter.split_documents([doc])\n",
    "\n",
    "docs_processed[0]"
   ]
  },
  {
   "cell_type": "code",
   "execution_count": 7,
   "id": "25795e70-8e33-4dcf-b00f-b4174e282624",
   "metadata": {},
   "outputs": [
    {
     "name": "stdout",
     "output_type": "stream",
     "text": [
      "CPU times: user 13.7 s, sys: 569 ms, total: 14.3 s\n",
      "Wall time: 24.3 s\n"
     ]
    }
   ],
   "source": [
    "# Cost/compute intensive\n",
    "\n",
    "%time vector_db = Chroma.from_documents(docs_processed, embeddings, persist_directory=DB_PATH)"
   ]
  }
 ],
 "metadata": {
  "kernelspec": {
   "display_name": "Python 3 (ipykernel)",
   "language": "python",
   "name": "python3"
  },
  "language_info": {
   "codemirror_mode": {
    "name": "ipython",
    "version": 3
   },
   "file_extension": ".py",
   "mimetype": "text/x-python",
   "name": "python",
   "nbconvert_exporter": "python",
   "pygments_lexer": "ipython3",
   "version": "3.10.1"
  }
 },
 "nbformat": 4,
 "nbformat_minor": 5
}
