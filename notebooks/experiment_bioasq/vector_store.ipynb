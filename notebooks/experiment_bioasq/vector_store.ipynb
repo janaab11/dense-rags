{
 "cells": [
  {
   "cell_type": "markdown",
   "id": "a73f88f8-68f4-4668-bebd-ca91d559fe51",
   "metadata": {},
   "source": [
    "# Vector Store"
   ]
  },
  {
   "cell_type": "markdown",
   "id": "aa58c8e0-f2fd-4a72-a19c-d60703bc5506",
   "metadata": {},
   "source": [
    "We start by defining a few constants and imports"
   ]
  },
  {
   "cell_type": "code",
   "execution_count": 9,
   "id": "7226727b-61d3-4406-a196-3b1bee80a2a1",
   "metadata": {},
   "outputs": [],
   "source": [
    "DATASET_DIR = \"../../datasets/bioasq/\""
   ]
  },
  {
   "cell_type": "code",
   "execution_count": 10,
   "id": "3668d9f0-3631-4d38-90fe-098ba2333935",
   "metadata": {},
   "outputs": [],
   "source": [
    "import os\n",
    "\n",
    "DATASET_PATH = os.path.join(DATASET_DIR, \"data.csv\")\n",
    "DB_PATH = os.path.join(DATASET_DIR, \"vector_db\")"
   ]
  },
  {
   "cell_type": "code",
   "execution_count": 11,
   "id": "f690370c-7691-430a-8a8e-48b1d02f0429",
   "metadata": {},
   "outputs": [],
   "source": [
    "from langchain.chains import LLMChain, RetrievalQA, HypotheticalDocumentEmbedder\n",
    "from langchain.prompts import PromptTemplate\n",
    "from langchain_openai import OpenAIEmbeddings, OpenAI, ChatOpenAI\n",
    "from langchain_chroma import Chroma"
   ]
  },
  {
   "cell_type": "code",
   "execution_count": 12,
   "id": "467bca83-9704-4c28-99f1-6d7a2045961a",
   "metadata": {},
   "outputs": [
    {
     "name": "stdin",
     "output_type": "stream",
     "text": [
      " ········\n"
     ]
    }
   ],
   "source": [
    "import getpass\n",
    "import os\n",
    "\n",
    "os.environ[\"OPENAI_API_KEY\"] = os.environ.get(\"OPENAI_API_KEY\", getpass.getpass())"
   ]
  },
  {
   "cell_type": "markdown",
   "id": "fada6331-1512-4180-89ed-2df4d7f5f2cd",
   "metadata": {},
   "source": [
    "Documents are processed and encoded into dense embeddings"
   ]
  },
  {
   "cell_type": "code",
   "execution_count": 13,
   "id": "9b6d2392-7906-4b6f-b33f-e6cad36ea31c",
   "metadata": {},
   "outputs": [],
   "source": [
    "embeddings = OpenAIEmbeddings(model=\"text-embedding-3-small\")"
   ]
  },
  {
   "cell_type": "code",
   "execution_count": 14,
   "id": "e1897c15-efc0-478d-8b14-8a7d23200fde",
   "metadata": {},
   "outputs": [
    {
     "data": {
      "text/plain": [
       "Document(metadata={'source': '../../datasets/bioasq/data.csv', 'row': 0, 'start_index': 0}, page_content='passage: 1. The temperature function of the myeloma IgG(K) IVA, Bence-Jones protein \\n(K-type) IVA and its fragments (Fab(t), Fc\\'(t), VL and CL) was studied by \\nthermal perturbation difference spectroscopy and circular dichroism. 2. The IgG \\nand Bence-Jones protein studied were found to be capable of a fully reversible \\nstructural changes at temperatures between 25 and 35 degrees C. The changes \\noccurring at the higher temperature are accompanied by the screening of the \\nsignificant part of exposed tyrosine residues. The transition is not accompanied \\nby an appreciable change in the main IgG secondary structure-beta-pleated sheet, \\naccording to the CD data. 3. It was found that the temperature-dependent changes \\nof IgG occur in its Fab fragments, the changes of Bence-Jones protein occur in \\nits variable part (VL domains). 4. The temperature changes in the interval 25-35 \\ndegrees C are explained by the flexibility of amino acid side chains composed \\nhypervariable loops delineated the \"sides\" of cavity between variable domains.')"
      ]
     },
     "execution_count": 14,
     "metadata": {},
     "output_type": "execute_result"
    }
   ],
   "source": [
    "from langchain_community.document_loaders import CSVLoader\n",
    "from langchain.text_splitter import RecursiveCharacterTextSplitter\n",
    "\n",
    "#data loader\n",
    "loader = CSVLoader(file_path=DATASET_PATH, encoding='utf-8')\n",
    "docs = loader.load()\n",
    "\n",
    "#data transformers\n",
    "text_splitter = RecursiveCharacterTextSplitter(\n",
    "    chunk_size=2000,\n",
    "    chunk_overlap=100,\n",
    "    add_start_index=True,\n",
    "    separators=[\"\\n\\n\", \"\\n\", \".\", \" \", \"\"],\n",
    ")\n",
    "\n",
    "docs_processed = []\n",
    "for doc in docs:\n",
    "    docs_processed += text_splitter.split_documents([doc])\n",
    "\n",
    "docs_processed[0]"
   ]
  },
  {
   "cell_type": "code",
   "execution_count": 15,
   "id": "25795e70-8e33-4dcf-b00f-b4174e282624",
   "metadata": {},
   "outputs": [
    {
     "name": "stdout",
     "output_type": "stream",
     "text": [
      "CPU times: user 13.4 s, sys: 417 ms, total: 13.8 s\n",
      "Wall time: 22.6 s\n"
     ]
    }
   ],
   "source": [
    "# Cost/compute intensive\n",
    "\n",
    "%time vector_db = Chroma.from_documents(docs_processed, embeddings, persist_directory=DB_PATH)"
   ]
  }
 ],
 "metadata": {
  "kernelspec": {
   "display_name": "Python 3 (ipykernel)",
   "language": "python",
   "name": "python3"
  },
  "language_info": {
   "codemirror_mode": {
    "name": "ipython",
    "version": 3
   },
   "file_extension": ".py",
   "mimetype": "text/x-python",
   "name": "python",
   "nbconvert_exporter": "python",
   "pygments_lexer": "ipython3",
   "version": "3.10.1"
  }
 },
 "nbformat": 4,
 "nbformat_minor": 5
}
