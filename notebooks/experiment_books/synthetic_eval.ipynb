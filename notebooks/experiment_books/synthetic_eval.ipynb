{
 "cells": [
  {
   "cell_type": "markdown",
   "id": "7ca409ec-bccc-4446-a6ff-94d9167ba055",
   "metadata": {},
   "source": [
    "# Synthetic Dataset \n",
    "\n",
    "We generate an evaluation dataset for a RAG task"
   ]
  },
  {
   "cell_type": "code",
   "execution_count": 24,
   "id": "d0936667-abcc-4b92-b2d0-0c398add85d8",
   "metadata": {},
   "outputs": [],
   "source": [
    "DATASET_DIR = \"../../datasets/books/\""
   ]
  },
  {
   "cell_type": "code",
   "execution_count": 25,
   "id": "6c7cfdcb-6a84-4b78-8634-ca7c99f67072",
   "metadata": {},
   "outputs": [],
   "source": [
    "import os\n",
    "\n",
    "DATASET_PATH = os.path.join(DATASET_DIR, \"data.csv\")\n",
    "QA_PROMPT_PATH = os.path.join(DATASET_DIR, \"qa_prompt.txt\")\n",
    "EVAL_PATH = os.path.join(DATASET_DIR, \"eval.csv\")"
   ]
  },
  {
   "cell_type": "code",
   "execution_count": 26,
   "id": "c84325bd-ffd6-4d2c-9909-5401ccf71e8e",
   "metadata": {},
   "outputs": [
    {
     "name": "stdin",
     "output_type": "stream",
     "text": [
      " ········\n"
     ]
    }
   ],
   "source": [
    "import getpass\n",
    "import os\n",
    "\n",
    "os.environ[\"OPENAI_API_KEY\"] = getpass.getpass()\n",
    "\n",
    "from langchain_openai import ChatOpenAI\n",
    "\n",
    "llm = ChatOpenAI(model=\"gpt-4\")"
   ]
  },
  {
   "cell_type": "markdown",
   "id": "d56f5481-0813-483f-a3bd-bbfed659884c",
   "metadata": {},
   "source": [
    "---"
   ]
  },
  {
   "cell_type": "markdown",
   "id": "875ab27a-0d7b-4dfe-b2e3-967d96c2d438",
   "metadata": {},
   "source": [
    "Prompt to generate QA, given a document as context"
   ]
  },
  {
   "cell_type": "code",
   "execution_count": 27,
   "id": "f162480d-53cd-42a1-9369-82b70154be60",
   "metadata": {},
   "outputs": [
    {
     "name": "stdout",
     "output_type": "stream",
     "text": [
      "Your task is to write a factoid question and an answer given the name and description of a book.\n",
      "Your factoid question should be answerable with a specific, concise piece of factual information from the context.\n",
      "Your factoid question should be formulated in the same style as questions users could ask in a search engine.\n",
      "This means that your factoid question MUST NOT mention something like \"according to the passage\" or \"context\".\n",
      "\n",
      "Provide your answer as follows:\n",
      "\n",
      "Output:::\n",
      "Question: (your factoid question)\n",
      "Answer: (your answer to the factoid question)\n",
      "\n",
      "Now here is the context.\n",
      "\n",
      "Context: {context}\\n\n",
      "Output:::\n"
     ]
    }
   ],
   "source": [
    "with open(QA_PROMPT_PATH, 'r') as file:\n",
    "    prompt_template = file.read()\n",
    "\n",
    "print(prompt_template)"
   ]
  },
  {
   "cell_type": "code",
   "execution_count": 10,
   "id": "fe847b20-e23b-469b-8771-279624588ea6",
   "metadata": {},
   "outputs": [],
   "source": [
    "from langchain_community.document_loaders import CSVLoader\n",
    "from langchain.text_splitter import RecursiveCharacterTextSplitter\n",
    "\n",
    "#data loader\n",
    "loader = CSVLoader(file_path=DATASET_PATH, encoding='utf-8')\n",
    "docs = loader.load()\n",
    "\n",
    "text_splitter = RecursiveCharacterTextSplitter(\n",
    "    chunk_size=2000,\n",
    "    chunk_overlap=0,\n",
    "    add_start_index=True,\n",
    "    separators=[\"\\n\\n\", \"\\n\", \".\", \" \", \"\"],\n",
    ")\n",
    "\n",
    "docs_processed = []\n",
    "for doc in docs:\n",
    "    docs_processed += text_splitter.split_documents([doc])"
   ]
  },
  {
   "cell_type": "code",
   "execution_count": 28,
   "id": "eacf078a-0dd5-4c5b-b3e9-67f4287eca53",
   "metadata": {},
   "outputs": [
    {
     "data": {
      "application/vnd.jupyter.widget-view+json": {
       "model_id": "9cbb7d229bc140d0a49cb8925bed292e",
       "version_major": 2,
       "version_minor": 0
      },
      "text/plain": [
       "  0%|          | 0/100 [00:00<?, ?it/s]"
      ]
     },
     "metadata": {},
     "output_type": "display_data"
    }
   ],
   "source": [
    "# Cost/compute intensive operation\n",
    "\n",
    "import random\n",
    "from tqdm.auto import tqdm\n",
    "\n",
    "EVAL_SIZE = 100\n",
    "outputs = []\n",
    "\n",
    "for sample in tqdm(random.sample(docs_processed, EVAL_SIZE)):\n",
    "    \n",
    "    messages = [\n",
    "        (\n",
    "            \"system\",\n",
    "            prompt_template.format(context=sample.page_content),\n",
    "        )\n",
    "    ]\n",
    "    qa = llm.invoke(messages).content\n",
    "\n",
    "    try:\n",
    "        question = qa.split(\"Question: \")[-1].split(\"Answer: \")[0]\n",
    "        answer = qa.split(\"Answer: \")[-1]\n",
    "        assert len(answer) < 300, \"Answer is too long\"\n",
    "        outputs.append(\n",
    "            {\n",
    "                \"context\": sample.page_content,\n",
    "                \"question\": question,\n",
    "                \"answer\": answer,\n",
    "                \"source_doc\": sample.metadata[\"source\"],\n",
    "            }\n",
    "        )\n",
    "    except:\n",
    "        continue\n"
   ]
  },
  {
   "cell_type": "code",
   "execution_count": 29,
   "id": "2991cf93-bc41-43cf-bdf7-05df5b6ff62e",
   "metadata": {},
   "outputs": [
    {
     "data": {
      "text/plain": [
       "{'context': 'Book: Heart of a Warrior Angel\\nDescription: TRIGGER WARNINGAward winning Author Lali A. Love provides a supernatural thriller of metaphysical and visionary fantasy with her own revolutionary philosophy and unique narrative skills to produce this emotionally invoking, heart-wrenching and gripping tale of a family\\'s rise from poverty, oppression and abuse. Lilac Noble must face the traumatic experiences of her childhood before she can conquer the dark entities that have wreaked havoc on her family. On this epic journey, Lilac undergoes the destructive process of spiritual enlightenment in order to lift the veil of darkness and shame that has obscured her youth. As Lilac unlocks painful memories of abuse, suppressed in her subconscious from years of fear-based conditioning, she uncovers menacing secrets feeding the evil within her generational bloodline. In an attempt to vanquish the sinister energies, Lilac finds the courage to discover her inner truth, vulnerability, and authenticity, as she awakens her divine light and overcomes her debilitating fears of the past. Lilac\\'s unconditional love for her family guides her through her process of healing and transformation, fuelling her instinct for survival and her burning desire to illuminate the world. Spanning two continents and three generations, this inspirational novel portrays the best and worst of humanity and shows how the \"tiniest spark of light can overcome the darkness of any magnitude,\" through forgiveness, compassion, and the most powerful force in the universe – Love.',\n",
       " 'question': 'Who is the author of the book Heart of a Warrior Angel?\\n',\n",
       " 'answer': 'Lali A. Love',\n",
       " 'source_doc': '../datasets/books/data.csv'}"
      ]
     },
     "execution_count": 29,
     "metadata": {},
     "output_type": "execute_result"
    }
   ],
   "source": [
    "outputs[-1]"
   ]
  },
  {
   "cell_type": "code",
   "execution_count": 30,
   "id": "09448c8e-0ddb-463d-8852-b13e216b2c36",
   "metadata": {},
   "outputs": [],
   "source": [
    "import pandas as pd\n",
    "\n",
    "df = pd.DataFrame(outputs)\n",
    "df.to_csv(EVAL_PATH, index=False)"
   ]
  }
 ],
 "metadata": {
  "kernelspec": {
   "display_name": "Python 3 (ipykernel)",
   "language": "python",
   "name": "python3"
  },
  "language_info": {
   "codemirror_mode": {
    "name": "ipython",
    "version": 3
   },
   "file_extension": ".py",
   "mimetype": "text/x-python",
   "name": "python",
   "nbconvert_exporter": "python",
   "pygments_lexer": "ipython3",
   "version": "3.10.1"
  }
 },
 "nbformat": 4,
 "nbformat_minor": 5
}
